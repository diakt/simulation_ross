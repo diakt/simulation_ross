{
 "cells": [
  {
   "cell_type": "code",
   "execution_count": 1,
   "metadata": {},
   "outputs": [],
   "source": [
    "import collections"
   ]
  },
  {
   "cell_type": "code",
   "execution_count": 5,
   "metadata": {},
   "outputs": [],
   "source": [
    "import heapq\n",
    "arrival = [12, 31, 63, 95, 99, 154, 198, 221, 304, 346, 411, 455, 537]\n",
    "service = [40, 32, 55, 48, 18, 50, 47, 18, 28, 54, 40, 72, 12]\n",
    "seg = []\n",
    "\n",
    "for x, y in zip(arrival, service):\n",
    "    seg.append([x,y])\n"
   ]
  },
  {
   "cell_type": "code",
   "execution_count": 16,
   "metadata": {},
   "outputs": [
    {
     "name": "stdout",
     "output_type": "stream",
     "text": [
      "52\n",
      "84\n",
      "139\n",
      "187\n",
      "205\n",
      "255\n",
      "302\n",
      "320\n",
      "348\n",
      "402\n",
      "451\n",
      "527\n",
      "549\n"
     ]
    }
   ],
   "source": [
    "res_1a = {}\n",
    "curr = 0\n",
    "for x, y in seg:\n",
    "    res_1a[x] = max(curr, x)+y\n",
    "    curr = res_1a[x]\n",
    "\n",
    "for x, y in sorted(res_1a.items(), key = lambda x: x[1]):\n",
    "    print(y)"
   ]
  },
  {
   "cell_type": "code",
   "execution_count": 18,
   "metadata": {},
   "outputs": [
    {
     "name": "stdout",
     "output_type": "stream",
     "text": [
      "52\n",
      "63\n",
      "118\n",
      "143\n",
      "136\n",
      "204\n",
      "245\n",
      "239\n",
      "332\n",
      "400\n",
      "451\n",
      "527\n",
      "549\n"
     ]
    }
   ],
   "source": [
    "res_2a = {}\n",
    "curr = 0\n",
    "s1 = 0\n",
    "s2 = 0\n",
    "for x, y in seg:\n",
    "    if s1 < s2:\n",
    "        res_2a[x] = max(s1, x)+y\n",
    "        s1 = res_2a[x]\n",
    "    else:\n",
    "        res_2a[x] = max(s2, x)+y\n",
    "        s2 = res_2a[x]\n",
    "\n",
    "for x, y in sorted(res_2a.items()):\n",
    "    print(y)"
   ]
  },
  {
   "cell_type": "code",
   "execution_count": 15,
   "metadata": {},
   "outputs": [
    {
     "name": "stdout",
     "output_type": "stream",
     "text": [
      "52\n",
      "84\n",
      "139\n",
      "157\n",
      "207\n",
      "254\n",
      "272\n",
      "320\n",
      "348\n",
      "402\n",
      "451\n",
      "527\n",
      "549\n"
     ]
    }
   ],
   "source": [
    "res_3a = {}\n",
    "temp = {}\n",
    "for x, y in seg:\n",
    "    temp[x]=y\n",
    "jobstack = set()\n",
    "curr = 0\n",
    "pos = 0\n",
    "fin = False\n",
    "\n",
    "for i in range(1000):\n",
    "    if(not fin and seg[pos][0] <= i):\n",
    "        jobstack.add(seg[pos][0])\n",
    "        pos+=1\n",
    "        if(pos==len(seg)):\n",
    "            fin=True\n",
    "    if(len(jobstack)!=0 and curr <= i):\n",
    "        currjob = max(jobstack)\n",
    "        jobstack.remove(currjob)\n",
    "        res_3a[currjob]=max(curr, currjob)+temp[currjob]\n",
    "        curr = res_3a[currjob]\n",
    "\n",
    "\n",
    "for x, y in sorted(res_3a.items(), key = lambda x: x[1]):\n",
    "    print(y)"
   ]
  },
  {
   "cell_type": "code",
   "execution_count": 29,
   "metadata": {},
   "outputs": [
    {
     "data": {
      "text/latex": [
       "$\\displaystyle D_n - S_n = \\max{(A_n, D_{n-1})}$"
      ],
      "text/plain": [
       "<IPython.core.display.Math object>"
      ]
     },
     "metadata": {},
     "output_type": "display_data"
    },
    {
     "data": {
      "text/latex": [
       "$\\displaystyle D_n - S_n = \\max{(A_n, \\min{(D_{n-2}, D_{n-1})})}$"
      ],
      "text/plain": [
       "<IPython.core.display.Math object>"
      ]
     },
     "metadata": {},
     "output_type": "display_data"
    },
    {
     "data": {
      "text/latex": [
       "$\\displaystyle D_n - S_n = \\max{(A_n, \\min{(D_{n-k}, ..., D_{n-1})})}$"
      ],
      "text/plain": [
       "<IPython.core.display.Math object>"
      ]
     },
     "metadata": {},
     "output_type": "display_data"
    }
   ],
   "source": [
    "from IPython.display import display, Math, Latex\n",
    "Q2a = r'D_n - S_n = \\max{(A_n, D_{n-1})}'\n",
    "Q2b = r'D_n - S_n = \\max{(A_n, \\min{(D_{n-2}, D_{n-1})})}'\n",
    "Q2c = r'D_n - S_n = \\max{(A_n, \\min{(D_{n-k}, ..., D_{n-1})})}'\n",
    "\n",
    "display(Math(Q2a))\n",
    "display(Math(Q2b))\n",
    "display(Math(Q2c))\n"
   ]
  }
 ],
 "metadata": {
  "kernelspec": {
   "display_name": "Python 3",
   "language": "python",
   "name": "python3"
  },
  "language_info": {
   "codemirror_mode": {
    "name": "ipython",
    "version": 3
   },
   "file_extension": ".py",
   "mimetype": "text/x-python",
   "name": "python",
   "nbconvert_exporter": "python",
   "pygments_lexer": "ipython3",
   "version": "3.10.11"
  }
 },
 "nbformat": 4,
 "nbformat_minor": 2
}
